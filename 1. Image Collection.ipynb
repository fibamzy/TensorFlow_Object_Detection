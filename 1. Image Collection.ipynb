{
 "cells": [
  {
   "cell_type": "markdown",
   "metadata": {},
   "source": [
    "# 1. Import Dependencies"
   ]
  },
  {
   "cell_type": "code",
   "execution_count": 1,
   "metadata": {},
   "outputs": [
    {
     "name": "stdout",
     "output_type": "stream",
     "text": [
      "Collecting opencv-python\n",
      "  Using cached opencv_python-4.9.0.80-cp37-abi3-win_amd64.whl.metadata (20 kB)\n",
      "Collecting numpy>=1.21.2 (from opencv-python)\n",
      "  Downloading numpy-1.26.4-cp310-cp310-win_amd64.whl.metadata (61 kB)\n",
      "     ---------------------------------------- 0.0/61.0 kB ? eta -:--:--\n",
      "     ---------------------------------------- 61.0/61.0 kB 3.4 MB/s eta 0:00:00\n",
      "Using cached opencv_python-4.9.0.80-cp37-abi3-win_amd64.whl (38.6 MB)\n",
      "Downloading numpy-1.26.4-cp310-cp310-win_amd64.whl (15.8 MB)\n",
      "   ---------------------------------------- 0.0/15.8 MB ? eta -:--:--\n",
      "   -- ------------------------------------- 0.9/15.8 MB 30.1 MB/s eta 0:00:01\n",
      "   ---- ----------------------------------- 1.7/15.8 MB 27.6 MB/s eta 0:00:01\n",
      "   -------- ------------------------------- 3.4/15.8 MB 26.8 MB/s eta 0:00:01\n",
      "   -------------- ------------------------- 5.6/15.8 MB 32.9 MB/s eta 0:00:01\n",
      "   -------------------- ------------------- 8.1/15.8 MB 37.0 MB/s eta 0:00:01\n",
      "   -------------------------- ------------- 10.4/15.8 MB 40.9 MB/s eta 0:00:01\n",
      "   ------------------------------- -------- 12.4/15.8 MB 46.7 MB/s eta 0:00:01\n",
      "   ------------------------------------- -- 14.7/15.8 MB 46.7 MB/s eta 0:00:01\n",
      "   ---------------------------------------  15.8/15.8 MB 43.5 MB/s eta 0:00:01\n",
      "   ---------------------------------------- 15.8/15.8 MB 36.3 MB/s eta 0:00:00\n",
      "Installing collected packages: numpy, opencv-python\n",
      "Successfully installed numpy-1.26.4 opencv-python-4.9.0.80\n"
     ]
    }
   ],
   "source": [
    "!pip install opencv-python"
   ]
  },
  {
   "cell_type": "code",
   "execution_count": 16,
   "metadata": {},
   "outputs": [],
   "source": [
    "# Import opencv\n",
    "import cv2 \n",
    "\n",
    "# Import uuid - allows for naming images uniquely \n",
    "import uuid\n",
    "\n",
    "# Import Operating System\n",
    "import os\n",
    "\n",
    "# Import time\n",
    "import time"
   ]
  },
  {
   "cell_type": "markdown",
   "metadata": {},
   "source": [
    "# 2. Define Images to Collect"
   ]
  },
  {
   "cell_type": "code",
   "execution_count": 42,
   "metadata": {},
   "outputs": [],
   "source": [
    "labels = ['ok', 'nok']\n",
    "number_imgs = 10"
   ]
  },
  {
   "cell_type": "markdown",
   "metadata": {},
   "source": [
    "# 3. Setup Folders "
   ]
  },
  {
   "cell_type": "code",
   "execution_count": 18,
   "metadata": {},
   "outputs": [],
   "source": [
    "IMAGES_PATH = os.path.join('Tensorflow', 'workspace', 'images', 'collectedimages')"
   ]
  },
  {
   "cell_type": "code",
   "execution_count": 19,
   "metadata": {},
   "outputs": [
    {
     "name": "stdout",
     "output_type": "stream",
     "text": [
      "Tensorflow\\workspace\\images\\collectedimages\n"
     ]
    }
   ],
   "source": [
    "print(IMAGES_PATH)"
   ]
  },
  {
   "cell_type": "code",
   "execution_count": 20,
   "metadata": {},
   "outputs": [
    {
     "data": {
      "text/plain": [
       "'nt'"
      ]
     },
     "execution_count": 20,
     "metadata": {},
     "output_type": "execute_result"
    }
   ],
   "source": [
    "os.name"
   ]
  },
  {
   "cell_type": "code",
   "execution_count": 21,
   "metadata": {},
   "outputs": [],
   "source": [
    "if not os.path.exists(IMAGES_PATH):\n",
    "    if os.name == 'posix':\n",
    "        !mkdir -p {IMAGES_PATH}\n",
    "    if os.name == 'nt':\n",
    "         !mkdir {IMAGES_PATH}\n",
    "for label in labels:\n",
    "    path = os.path.join(IMAGES_PATH, label)\n",
    "    if not os.path.exists(path):\n",
    "        !mkdir {path}"
   ]
  },
  {
   "cell_type": "markdown",
   "metadata": {},
   "source": [
    "# 4. Capture Images"
   ]
  },
  {
   "cell_type": "code",
   "execution_count": 43,
   "metadata": {},
   "outputs": [
    {
     "name": "stdout",
     "output_type": "stream",
     "text": [
      "Collecting images for ok\n",
      "Collecting image 0\n",
      "Collecting image 1\n",
      "Collecting image 2\n",
      "Collecting image 3\n",
      "Collecting image 4\n",
      "Collecting image 5\n",
      "Collecting image 6\n",
      "Collecting image 7\n",
      "Collecting image 8\n",
      "Collecting image 9\n",
      "Collecting images for nok\n",
      "Collecting image 0\n",
      "Collecting image 1\n",
      "Collecting image 2\n",
      "Collecting image 3\n",
      "Collecting image 4\n",
      "Collecting image 5\n",
      "Collecting image 6\n",
      "Collecting image 7\n",
      "Collecting image 8\n",
      "Collecting image 9\n"
     ]
    }
   ],
   "source": [
    "for label in labels:\n",
    "    cap = cv2.VideoCapture(1) # connects to webcam, number could vary with os system or external device\n",
    "    print('Collecting images for {}'.format(label))\n",
    "    time.sleep(5) # break for 5 seconds to change image orientation\n",
    "    for imgnum in range(number_imgs):\n",
    "        print('Collecting image {}'.format(imgnum))\n",
    "        ret, frame = cap.read()\n",
    "        imgname = os.path.join(IMAGES_PATH,label,label+'.'+'{}.jpg'.format(str(uuid.uuid1())))\n",
    "        cv2.imwrite(imgname, frame)\n",
    "        cv2.imshow('frame', frame)\n",
    "        time.sleep(3)\n",
    "\n",
    "        if cv2.waitKey(1) & 0xFF == ord('q'):\n",
    "            break\n",
    "cap.release()\n",
    "cv2.destroyAllWindows()"
   ]
  },
  {
   "cell_type": "markdown",
   "metadata": {},
   "source": [
    "## 5. Image Labelling"
   ]
  },
  {
   "cell_type": "code",
   "execution_count": 10,
   "metadata": {},
   "outputs": [
    {
     "name": "stdout",
     "output_type": "stream",
     "text": [
      "Collecting pyqt5\n",
      "  Downloading PyQt5-5.15.10-cp37-abi3-win_amd64.whl.metadata (2.2 kB)\n",
      "Collecting lxml\n",
      "  Downloading lxml-5.1.0-cp310-cp310-win_amd64.whl.metadata (3.6 kB)\n",
      "Collecting PyQt5-sip<13,>=12.13 (from pyqt5)\n",
      "  Downloading PyQt5_sip-12.13.0-cp310-cp310-win_amd64.whl.metadata (524 bytes)\n",
      "Collecting PyQt5-Qt5>=5.15.2 (from pyqt5)\n",
      "  Downloading PyQt5_Qt5-5.15.2-py3-none-win_amd64.whl.metadata (552 bytes)\n",
      "Downloading PyQt5-5.15.10-cp37-abi3-win_amd64.whl (6.8 MB)\n",
      "   ---------------------------------------- 0.0/6.8 MB ? eta -:--:--\n",
      "   -- ------------------------------------- 0.4/6.8 MB 8.7 MB/s eta 0:00:01\n",
      "   --------- ------------------------------ 1.6/6.8 MB 16.8 MB/s eta 0:00:01\n",
      "   ---------------- ----------------------- 2.9/6.8 MB 20.6 MB/s eta 0:00:01\n",
      "   -------------------------------- ------- 5.5/6.8 MB 29.4 MB/s eta 0:00:01\n",
      "   ---------------------------------------  6.8/6.8 MB 31.3 MB/s eta 0:00:01\n",
      "   ---------------------------------------- 6.8/6.8 MB 27.3 MB/s eta 0:00:00\n",
      "Downloading lxml-5.1.0-cp310-cp310-win_amd64.whl (3.9 MB)\n",
      "   ---------------------------------------- 0.0/3.9 MB ? eta -:--:--\n",
      "   ------------------ --------------------- 1.8/3.9 MB 38.6 MB/s eta 0:00:01\n",
      "   ---------------------------------------  3.9/3.9 MB 49.9 MB/s eta 0:00:01\n",
      "   ---------------------------------------- 3.9/3.9 MB 27.6 MB/s eta 0:00:00\n",
      "Downloading PyQt5_Qt5-5.15.2-py3-none-win_amd64.whl (50.1 MB)\n",
      "   ---------------------------------------- 0.0/50.1 MB ? eta -:--:--\n",
      "   - -------------------------------------- 2.4/50.1 MB 77.3 MB/s eta 0:00:01\n",
      "   ---- ----------------------------------- 5.1/50.1 MB 65.1 MB/s eta 0:00:01\n",
      "   ------ --------------------------------- 7.6/50.1 MB 61.0 MB/s eta 0:00:01\n",
      "   -------- ------------------------------- 10.0/50.1 MB 58.2 MB/s eta 0:00:01\n",
      "   ---------- ----------------------------- 12.6/50.1 MB 54.4 MB/s eta 0:00:01\n",
      "   ------------ --------------------------- 15.4/50.1 MB 59.5 MB/s eta 0:00:01\n",
      "   -------------- ------------------------- 17.6/50.1 MB 54.4 MB/s eta 0:00:01\n",
      "   --------------- ------------------------ 19.3/50.1 MB 50.4 MB/s eta 0:00:01\n",
      "   ----------------- ---------------------- 22.0/50.1 MB 54.4 MB/s eta 0:00:01\n",
      "   ------------------ --------------------- 23.6/50.1 MB 50.1 MB/s eta 0:00:01\n",
      "   --------------------- ------------------ 26.3/50.1 MB 50.4 MB/s eta 0:00:01\n",
      "   ---------------------- ----------------- 28.3/50.1 MB 50.4 MB/s eta 0:00:01\n",
      "   ------------------------ --------------- 30.8/50.1 MB 50.4 MB/s eta 0:00:01\n",
      "   --------------------------- ------------ 33.9/50.1 MB 54.7 MB/s eta 0:00:01\n",
      "   ----------------------------- ---------- 36.6/50.1 MB 59.5 MB/s eta 0:00:01\n",
      "   ------------------------------- -------- 39.3/50.1 MB 59.5 MB/s eta 0:00:01\n",
      "   --------------------------------- ------ 41.5/50.1 MB 59.5 MB/s eta 0:00:01\n",
      "   ---------------------------------- ----- 43.8/50.1 MB 54.4 MB/s eta 0:00:01\n",
      "   ------------------------------------ --- 45.7/50.1 MB 50.4 MB/s eta 0:00:01\n",
      "   -------------------------------------- - 48.1/50.1 MB 50.4 MB/s eta 0:00:01\n",
      "   ---------------------------------------  50.1/50.1 MB 50.1 MB/s eta 0:00:01\n",
      "   ---------------------------------------  50.1/50.1 MB 50.1 MB/s eta 0:00:01\n",
      "   ---------------------------------------  50.1/50.1 MB 50.1 MB/s eta 0:00:01\n",
      "   ---------------------------------------  50.1/50.1 MB 50.1 MB/s eta 0:00:01\n",
      "   ---------------------------------------  50.1/50.1 MB 50.1 MB/s eta 0:00:01\n",
      "   ---------------------------------------- 50.1/50.1 MB 25.1 MB/s eta 0:00:00\n",
      "Downloading PyQt5_sip-12.13.0-cp310-cp310-win_amd64.whl (78 kB)\n",
      "   ---------------------------------------- 0.0/78.5 kB ? eta -:--:--\n",
      "   ---------------------------------------- 78.5/78.5 kB 4.3 MB/s eta 0:00:00\n",
      "Installing collected packages: PyQt5-Qt5, PyQt5-sip, lxml, pyqt5\n",
      "Successfully installed PyQt5-Qt5-5.15.2 PyQt5-sip-12.13.0 lxml-5.1.0 pyqt5-5.15.10\n"
     ]
    }
   ],
   "source": [
    "#!pip install --upgrade pyqt5 lxml"
   ]
  },
  {
   "cell_type": "code",
   "execution_count": 11,
   "metadata": {},
   "outputs": [
    {
     "name": "stdout",
     "output_type": "stream",
     "text": [
      "Package           Version\n",
      "----------------- -----------\n",
      "asttokens         2.4.1\n",
      "colorama          0.4.6\n",
      "comm              0.2.2\n",
      "debugpy           1.8.1\n",
      "decorator         5.1.1\n",
      "exceptiongroup    1.2.0\n",
      "executing         2.0.1\n",
      "ipykernel         6.29.3\n",
      "ipython           8.22.2\n",
      "jedi              0.19.1\n",
      "jupyter_client    8.6.1\n",
      "jupyter_core      5.7.2\n",
      "lxml              5.1.0\n",
      "matplotlib-inline 0.1.6\n",
      "nest-asyncio      1.6.0\n",
      "numpy             1.26.4\n",
      "opencv-python     4.9.0.80\n",
      "packaging         24.0\n",
      "parso             0.8.3\n",
      "pip               24.0\n",
      "platformdirs      4.2.0\n",
      "prompt-toolkit    3.0.43\n",
      "psutil            5.9.8\n",
      "pure-eval         0.2.2\n",
      "Pygments          2.17.2\n",
      "PyQt5             5.15.10\n",
      "PyQt5-Qt5         5.15.2\n",
      "PyQt5-sip         12.13.0\n",
      "python-dateutil   2.9.0.post0\n",
      "pywin32           306\n",
      "pyzmq             25.1.2\n",
      "setuptools        65.5.0\n",
      "six               1.16.0\n",
      "stack-data        0.6.3\n",
      "tornado           6.4\n",
      "traitlets         5.14.2\n",
      "wcwidth           0.2.13\n"
     ]
    }
   ],
   "source": [
    "#!pip list"
   ]
  },
  {
   "cell_type": "code",
   "execution_count": 12,
   "metadata": {},
   "outputs": [],
   "source": [
    "#LABELIMG_PATH = os.path.join('Tensorflow', 'labelimg')"
   ]
  },
  {
   "cell_type": "code",
   "execution_count": 13,
   "metadata": {},
   "outputs": [
    {
     "name": "stderr",
     "output_type": "stream",
     "text": [
      "Cloning into 'Tensorflow\\labelimg'...\n"
     ]
    }
   ],
   "source": [
    "#if not os.path.exists(LABELIMG_PATH):\n",
    "    #!mkdir {LABELIMG_PATH}\n",
    "   # !git clone https://github.com/tzutalin/labelImg {LABELIMG_PATH}"
   ]
  },
  {
   "cell_type": "code",
   "execution_count": 14,
   "metadata": {},
   "outputs": [],
   "source": [
    "#if os.name == 'posix':\n",
    "   # !cd {LABELIMG_PATH} && make qt5py3\n",
    "#if os.name =='nt':\n",
    "    #!cd {LABELIMG_PATH} && pyrcc5 -o libs/resources.py resources.qrc"
   ]
  },
  {
   "cell_type": "code",
   "execution_count": 45,
   "metadata": {},
   "outputs": [
    {
     "name": "stdout",
     "output_type": "stream",
     "text": [
      "Image:C:\\Users\\akinb\\OneDrive\\Desktop\\tfod\\TFODCourse\\Tensorflow\\workspace\\images\\collectedimages\\nok\\nok.1ac1a8e5-edd4-11ee-bc86-14857f241877.jpg -> Annotation:C:/Users/akinb/OneDrive/Desktop/tfod/TFODCourse/Tensorflow/workspace/images/collectedimages/nok\\nok.1ac1a8e5-edd4-11ee-bc86-14857f241877.xml\n",
      "Image:C:\\Users\\akinb\\OneDrive\\Desktop\\tfod\\TFODCourse\\Tensorflow\\workspace\\images\\collectedimages\\nok\\nok.4ac35965-edd4-11ee-b0b6-14857f241877.jpg -> Annotation:C:/Users/akinb/OneDrive/Desktop/tfod/TFODCourse/Tensorflow/workspace/images/collectedimages/nok\\nok.4ac35965-edd4-11ee-b0b6-14857f241877.xml\n",
      "Image:C:\\Users\\akinb\\OneDrive\\Desktop\\tfod\\TFODCourse\\Tensorflow\\workspace\\images\\collectedimages\\nok\\nok.4b41f009-edd6-11ee-bc16-14857f241877.jpg -> Annotation:C:/Users/akinb/OneDrive/Desktop/tfod/TFODCourse/Tensorflow/workspace/images/collectedimages/nok\\nok.4b41f009-edd6-11ee-bc16-14857f241877.xml\n",
      "Image:C:\\Users\\akinb\\OneDrive\\Desktop\\tfod\\TFODCourse\\Tensorflow\\workspace\\images\\collectedimages\\nok\\nok.4d0ef8a1-edd6-11ee-939f-14857f241877.jpg -> Annotation:C:/Users/akinb/OneDrive/Desktop/tfod/TFODCourse/Tensorflow/workspace/images/collectedimages/nok\\nok.4d0ef8a1-edd6-11ee-939f-14857f241877.xml\n",
      "Image:C:\\Users\\akinb\\OneDrive\\Desktop\\tfod\\TFODCourse\\Tensorflow\\workspace\\images\\collectedimages\\nok\\nok.4e5b9890-edd4-11ee-aadc-14857f241877.jpg -> Annotation:C:/Users/akinb/OneDrive/Desktop/tfod/TFODCourse/Tensorflow/workspace/images/collectedimages/nok\\nok.4e5b9890-edd4-11ee-aadc-14857f241877.xml\n",
      "Image:C:\\Users\\akinb\\OneDrive\\Desktop\\tfod\\TFODCourse\\Tensorflow\\workspace\\images\\collectedimages\\nok\\nok.4edb5d88-edd6-11ee-a378-14857f241877.jpg -> Annotation:C:/Users/akinb/OneDrive/Desktop/tfod/TFODCourse/Tensorflow/workspace/images/collectedimages/nok\\nok.4edb5d88-edd6-11ee-a378-14857f241877.xml\n",
      "Image:C:\\Users\\akinb\\OneDrive\\Desktop\\tfod\\TFODCourse\\Tensorflow\\workspace\\images\\collectedimages\\nok\\nok.5b726958-edd6-11ee-b91d-14857f241877.jpg -> Annotation:C:/Users/akinb/OneDrive/Desktop/tfod/TFODCourse/Tensorflow/workspace/images/collectedimages/nok\\nok.5b726958-edd6-11ee-b91d-14857f241877.xml\n",
      "Image:C:\\Users\\akinb\\OneDrive\\Desktop\\tfod\\TFODCourse\\Tensorflow\\workspace\\images\\collectedimages\\nok\\nok.23bca220-edd4-11ee-8108-14857f241877.jpg -> Annotation:C:/Users/akinb/OneDrive/Desktop/tfod/TFODCourse/Tensorflow/workspace/images/collectedimages/nok\\nok.23bca220-edd4-11ee-8108-14857f241877.xml\n",
      "Image:C:\\Users\\akinb\\OneDrive\\Desktop\\tfod\\TFODCourse\\Tensorflow\\workspace\\images\\collectedimages\\nok\\nok.48f6608f-edd4-11ee-936d-14857f241877.jpg -> Annotation:C:/Users/akinb/OneDrive/Desktop/tfod/TFODCourse/Tensorflow/workspace/images/collectedimages/nok\\nok.48f6608f-edd4-11ee-936d-14857f241877.xml\n",
      "Image:C:\\Users\\akinb\\OneDrive\\Desktop\\tfod\\TFODCourse\\Tensorflow\\workspace\\images\\collectedimages\\nok\\nok.50a9a91d-edd6-11ee-955f-14857f241877.jpg -> Annotation:C:/Users/akinb/OneDrive/Desktop/tfod/TFODCourse/Tensorflow/workspace/images/collectedimages/nok\\nok.50a9a91d-edd6-11ee-955f-14857f241877.xml\n",
      "Image:C:\\Users\\akinb\\OneDrive\\Desktop\\tfod\\TFODCourse\\Tensorflow\\workspace\\images\\collectedimages\\nok\\nok.59a724a9-edd6-11ee-b7e6-14857f241877.jpg -> Annotation:C:/Users/akinb/OneDrive/Desktop/tfod/TFODCourse/Tensorflow/workspace/images/collectedimages/nok\\nok.59a724a9-edd6-11ee-b7e6-14857f241877.xml\n",
      "Image:C:\\Users\\akinb\\OneDrive\\Desktop\\tfod\\TFODCourse\\Tensorflow\\workspace\\images\\collectedimages\\nok\\nok.455bd98f-edd4-11ee-98da-14857f241877.jpg -> Annotation:C:/Users/akinb/OneDrive/Desktop/tfod/TFODCourse/Tensorflow/workspace/images/collectedimages/nok\\nok.455bd98f-edd4-11ee-98da-14857f241877.xml\n",
      "Image:C:\\Users\\akinb\\OneDrive\\Desktop\\tfod\\TFODCourse\\Tensorflow\\workspace\\images\\collectedimages\\nok\\nok.560ea09c-edd6-11ee-8327-14857f241877.jpg -> Annotation:C:/Users/akinb/OneDrive/Desktop/tfod/TFODCourse/Tensorflow/workspace/images/collectedimages/nok\\nok.560ea09c-edd6-11ee-8327-14857f241877.xml\n",
      "Image:C:\\Users\\akinb\\OneDrive\\Desktop\\tfod\\TFODCourse\\Tensorflow\\workspace\\images\\collectedimages\\nok\\nok.2025e477-edd4-11ee-a737-14857f241877.jpg -> Annotation:C:/Users/akinb/OneDrive/Desktop/tfod/TFODCourse/Tensorflow/workspace/images/collectedimages/nok\\nok.2025e477-edd4-11ee-a737-14857f241877.xml\n",
      "Image:C:\\Users\\akinb\\OneDrive\\Desktop\\tfod\\TFODCourse\\Tensorflow\\workspace\\images\\collectedimages\\nok\\nok.4729a598-edd4-11ee-bc20-14857f241877.jpg -> Annotation:C:/Users/akinb/OneDrive/Desktop/tfod/TFODCourse/Tensorflow/workspace/images/collectedimages/nok\\nok.4729a598-edd4-11ee-bc20-14857f241877.xml\n",
      "Image:C:\\Users\\akinb\\OneDrive\\Desktop\\tfod\\TFODCourse\\Tensorflow\\workspace\\images\\collectedimages\\nok\\nok.502640d7-edd4-11ee-b7a1-14857f241877.jpg -> Annotation:C:/Users/akinb/OneDrive/Desktop/tfod/TFODCourse/Tensorflow/workspace/images/collectedimages/nok\\nok.502640d7-edd4-11ee-b7a1-14857f241877.xml\n",
      "Image:C:\\Users\\akinb\\OneDrive\\Desktop\\tfod\\TFODCourse\\Tensorflow\\workspace\\images\\collectedimages\\nok\\nok.544291c0-edd6-11ee-ad17-14857f241877.jpg -> Annotation:C:/Users/akinb/OneDrive/Desktop/tfod/TFODCourse/Tensorflow/workspace/images/collectedimages/nok\\nok.544291c0-edd6-11ee-ad17-14857f241877.xml\n",
      "Image:C:\\Users\\akinb\\OneDrive\\Desktop\\tfod\\TFODCourse\\Tensorflow\\workspace\\images\\collectedimages\\nok\\nok.2589688e-edd4-11ee-9a36-14857f241877.jpg -> Annotation:C:/Users/akinb/OneDrive/Desktop/tfod/TFODCourse/Tensorflow/workspace/images/collectedimages/nok\\nok.2589688e-edd4-11ee-9a36-14857f241877.xml\n",
      "Image:C:\\Users\\akinb\\OneDrive\\Desktop\\tfod\\TFODCourse\\Tensorflow\\workspace\\images\\collectedimages\\nok\\nok.e8711cdc-edd3-11ee-9f36-14857f241877.jpg -> Annotation:C:/Users/akinb/OneDrive/Desktop/tfod/TFODCourse/Tensorflow/workspace/images/collectedimages/nok\\nok.e8711cdc-edd3-11ee-9f36-14857f241877.xml\n",
      "Image:C:\\Users\\akinb\\OneDrive\\Desktop\\tfod\\TFODCourse\\Tensorflow\\workspace\\images\\collectedimages\\nok\\nok.ea3eaea0-edd3-11ee-a6c8-14857f241877.jpg -> Annotation:C:/Users/akinb/OneDrive/Desktop/tfod/TFODCourse/Tensorflow/workspace/images/collectedimages/nok\\nok.ea3eaea0-edd3-11ee-a6c8-14857f241877.xml\n",
      "Image:C:\\Users\\akinb\\OneDrive\\Desktop\\tfod\\TFODCourse\\Tensorflow\\workspace\\images\\collectedimages\\nok\\nok.edd799b7-edd3-11ee-9969-14857f241877.jpg -> Annotation:C:/Users/akinb/OneDrive/Desktop/tfod/TFODCourse/Tensorflow/workspace/images/collectedimages/nok\\nok.edd799b7-edd3-11ee-9969-14857f241877.xml\n",
      "Image:C:\\Users\\akinb\\OneDrive\\Desktop\\tfod\\TFODCourse\\Tensorflow\\workspace\\images\\collectedimages\\nok\\nok.efa25388-edd3-11ee-b116-14857f241877.jpg -> Annotation:C:/Users/akinb/OneDrive/Desktop/tfod/TFODCourse/Tensorflow/workspace/images/collectedimages/nok\\nok.efa25388-edd3-11ee-b116-14857f241877.xml\n",
      "Image:C:\\Users\\akinb\\OneDrive\\Desktop\\tfod\\TFODCourse\\Tensorflow\\workspace\\images\\collectedimages\\nok\\nok.f16d92ac-edd3-11ee-898a-14857f241877.jpg -> Annotation:C:/Users/akinb/OneDrive/Desktop/tfod/TFODCourse/Tensorflow/workspace/images/collectedimages/nok\\nok.f16d92ac-edd3-11ee-898a-14857f241877.xml\n",
      "Image:C:\\Users\\akinb\\OneDrive\\Desktop\\tfod\\TFODCourse\\Tensorflow\\workspace\\images\\collectedimages\\nok\\nok.f338f027-edd3-11ee-9619-14857f241877.jpg -> Annotation:C:/Users/akinb/OneDrive/Desktop/tfod/TFODCourse/Tensorflow/workspace/images/collectedimages/nok\\nok.f338f027-edd3-11ee-9619-14857f241877.xml\n",
      "Image:C:\\Users\\akinb\\OneDrive\\Desktop\\tfod\\TFODCourse\\Tensorflow\\workspace\\images\\collectedimages\\nok\\nok.f503e64d-edd3-11ee-b578-14857f241877.jpg -> Annotation:C:/Users/akinb/OneDrive/Desktop/tfod/TFODCourse/Tensorflow/workspace/images/collectedimages/nok\\nok.f503e64d-edd3-11ee-b578-14857f241877.xml\n",
      "Image:C:\\Users\\akinb\\OneDrive\\Desktop\\tfod\\TFODCourse\\Tensorflow\\workspace\\images\\collectedimages\\ok\\ok.0da3d89b-edd4-11ee-a913-14857f241877.jpg -> Annotation:C:/Users/akinb/OneDrive/Desktop/tfod/TFODCourse/Tensorflow/workspace/images/collectedimages/ok\\ok.0da3d89b-edd4-11ee-a913-14857f241877.xml\n",
      "Image:C:\\Users\\akinb\\OneDrive\\Desktop\\tfod\\TFODCourse\\Tensorflow\\workspace\\images\\collectedimages\\ok\\ok.0f6f938f-edd4-11ee-99e2-14857f241877.jpg -> Annotation:C:/Users/akinb/OneDrive/Desktop/tfod/TFODCourse/Tensorflow/workspace/images/collectedimages/ok\\ok.0f6f938f-edd4-11ee-99e2-14857f241877.xml\n",
      "Image:C:\\Users\\akinb\\OneDrive\\Desktop\\tfod\\TFODCourse\\Tensorflow\\workspace\\images\\collectedimages\\ok\\ok.3a918fde-edd6-11ee-bf5d-14857f241877.jpg -> Annotation:C:/Users/akinb/OneDrive/Desktop/tfod/TFODCourse/Tensorflow/workspace/images/collectedimages/ok\\ok.3a918fde-edd6-11ee-bf5d-14857f241877.xml\n",
      "Image:C:\\Users\\akinb\\OneDrive\\Desktop\\tfod\\TFODCourse\\Tensorflow\\workspace\\images\\collectedimages\\ok\\ok.3c5d54ab-edd6-11ee-a9fa-14857f241877.jpg -> Annotation:C:/Users/akinb/OneDrive/Desktop/tfod/TFODCourse/Tensorflow/workspace/images/collectedimages/ok\\ok.3c5d54ab-edd6-11ee-a9fa-14857f241877.xml\n",
      "Image:C:\\Users\\akinb\\OneDrive\\Desktop\\tfod\\TFODCourse\\Tensorflow\\workspace\\images\\collectedimages\\ok\\ok.3d966ed1-edd4-11ee-a1ac-14857f241877.jpg -> Annotation:C:/Users/akinb/OneDrive/Desktop/tfod/TFODCourse/Tensorflow/workspace/images/collectedimages/ok\\ok.3d966ed1-edd4-11ee-a1ac-14857f241877.xml\n",
      "Image:C:\\Users\\akinb\\OneDrive\\Desktop\\tfod\\TFODCourse\\Tensorflow\\workspace\\images\\collectedimages\\ok\\ok.3e2a60ed-edd6-11ee-9cce-14857f241877.jpg -> Annotation:C:/Users/akinb/OneDrive/Desktop/tfod/TFODCourse/Tensorflow/workspace/images/collectedimages/ok\\ok.3e2a60ed-edd6-11ee-9cce-14857f241877.xml\n",
      "Image:C:\\Users\\akinb\\OneDrive\\Desktop\\tfod\\TFODCourse\\Tensorflow\\workspace\\images\\collectedimages\\ok\\ok.3f615ed2-edd4-11ee-bb76-14857f241877.jpg -> Annotation:C:/Users/akinb/OneDrive/Desktop/tfod/TFODCourse/Tensorflow/workspace/images/collectedimages/ok\\ok.3f615ed2-edd4-11ee-bb76-14857f241877.xml\n",
      "Image:C:\\Users\\akinb\\OneDrive\\Desktop\\tfod\\TFODCourse\\Tensorflow\\workspace\\images\\collectedimages\\ok\\ok.3ff50866-edd6-11ee-81b9-14857f241877.jpg -> Annotation:C:/Users/akinb/OneDrive/Desktop/tfod/TFODCourse/Tensorflow/workspace/images/collectedimages/ok\\ok.3ff50866-edd6-11ee-81b9-14857f241877.xml\n",
      "Image:C:\\Users\\akinb\\OneDrive\\Desktop\\tfod\\TFODCourse\\Tensorflow\\workspace\\images\\collectedimages\\ok\\ok.32c71553-edd4-11ee-934d-14857f241877.jpg -> Annotation:C:/Users/akinb/OneDrive/Desktop/tfod/TFODCourse/Tensorflow/workspace/images/collectedimages/ok\\ok.32c71553-edd4-11ee-934d-14857f241877.xml\n",
      "Image:C:\\Users\\akinb\\OneDrive\\Desktop\\tfod\\TFODCourse\\Tensorflow\\workspace\\images\\collectedimages\\ok\\ok.38c6b5d2-edd6-11ee-a1a9-14857f241877.jpg -> Annotation:C:/Users/akinb/OneDrive/Desktop/tfod/TFODCourse/Tensorflow/workspace/images/collectedimages/ok\\ok.38c6b5d2-edd6-11ee-a1a9-14857f241877.xml\n",
      "Image:C:\\Users\\akinb\\OneDrive\\Desktop\\tfod\\TFODCourse\\Tensorflow\\workspace\\images\\collectedimages\\ok\\ok.39feac7c-edd4-11ee-94a7-14857f241877.jpg -> Annotation:C:/Users/akinb/OneDrive/Desktop/tfod/TFODCourse/Tensorflow/workspace/images/collectedimages/ok\\ok.39feac7c-edd4-11ee-94a7-14857f241877.xml\n",
      "Image:C:\\Users\\akinb\\OneDrive\\Desktop\\tfod\\TFODCourse\\Tensorflow\\workspace\\images\\collectedimages\\ok\\ok.083af59f-edd4-11ee-a5a8-14857f241877.jpg -> Annotation:C:/Users/akinb/OneDrive/Desktop/tfod/TFODCourse/Tensorflow/workspace/images/collectedimages/ok\\ok.083af59f-edd4-11ee-a5a8-14857f241877.xml\n",
      "Image:C:\\Users\\akinb\\OneDrive\\Desktop\\tfod\\TFODCourse\\Tensorflow\\workspace\\images\\collectedimages\\ok\\ok.113d2e33-edd4-11ee-9ce8-14857f241877.jpg -> Annotation:C:/Users/akinb/OneDrive/Desktop/tfod/TFODCourse/Tensorflow/workspace/images/collectedimages/ok\\ok.113d2e33-edd4-11ee-9ce8-14857f241877.xml\n",
      "Image:C:\\Users\\akinb\\OneDrive\\Desktop\\tfod\\TFODCourse\\Tensorflow\\workspace\\images\\collectedimages\\ok\\ok.349b376e-edd4-11ee-bba2-14857f241877.jpg -> Annotation:C:/Users/akinb/OneDrive/Desktop/tfod/TFODCourse/Tensorflow/workspace/images/collectedimages/ok\\ok.349b376e-edd4-11ee-bba2-14857f241877.xml\n",
      "Image:C:\\Users\\akinb\\OneDrive\\Desktop\\tfod\\TFODCourse\\Tensorflow\\workspace\\images\\collectedimages\\ok\\ok.438de6e7-edd6-11ee-b3b8-14857f241877.jpg -> Annotation:C:/Users/akinb/OneDrive/Desktop/tfod/TFODCourse/Tensorflow/workspace/images/collectedimages/ok\\ok.438de6e7-edd6-11ee-b3b8-14857f241877.xml\n",
      "Image:C:\\Users\\akinb\\OneDrive\\Desktop\\tfod\\TFODCourse\\Tensorflow\\workspace\\images\\collectedimages\\ok\\ok.0667cba3-edd4-11ee-9b99-14857f241877.jpg -> Annotation:C:/Users/akinb/OneDrive/Desktop/tfod/TFODCourse/Tensorflow/workspace/images/collectedimages/ok\\ok.0667cba3-edd4-11ee-9b99-14857f241877.xml\n",
      "Image:C:\\Users\\akinb\\OneDrive\\Desktop\\tfod\\TFODCourse\\Tensorflow\\workspace\\images\\collectedimages\\ok\\ok.4559e576-edd6-11ee-930f-14857f241877.jpg -> Annotation:C:/Users/akinb/OneDrive/Desktop/tfod/TFODCourse/Tensorflow/workspace/images/collectedimages/ok\\ok.4559e576-edd6-11ee-930f-14857f241877.xml\n",
      "Image:C:\\Users\\akinb\\OneDrive\\Desktop\\tfod\\TFODCourse\\Tensorflow\\workspace\\images\\collectedimages\\ok\\ok.38331cf7-edd4-11ee-9ba0-14857f241877.jpg -> Annotation:C:/Users/akinb/OneDrive/Desktop/tfod/TFODCourse/Tensorflow/workspace/images/collectedimages/ok\\ok.38331cf7-edd4-11ee-9ba0-14857f241877.xml\n",
      "Image:C:\\Users\\akinb\\OneDrive\\Desktop\\tfod\\TFODCourse\\Tensorflow\\workspace\\images\\collectedimages\\ok\\ok.35290022-edd6-11ee-a84d-14857f241877.jpg -> Annotation:C:/Users/akinb/OneDrive/Desktop/tfod/TFODCourse/Tensorflow/workspace/images/collectedimages/ok\\ok.35290022-edd6-11ee-a84d-14857f241877.xml\n",
      "Image:C:\\Users\\akinb\\OneDrive\\Desktop\\tfod\\TFODCourse\\Tensorflow\\workspace\\images\\collectedimages\\ok\\ok.d5e43838-edd3-11ee-923e-14857f241877.jpg -> Annotation:C:/Users/akinb/OneDrive/Desktop/tfod/TFODCourse/Tensorflow/workspace/images/collectedimages/ok\\ok.d5e43838-edd3-11ee-923e-14857f241877.xml\n",
      "Image:C:\\Users\\akinb\\OneDrive\\Desktop\\tfod\\TFODCourse\\Tensorflow\\workspace\\images\\collectedimages\\ok\\ok.d9867e11-edd3-11ee-a13f-14857f241877.jpg -> Annotation:C:/Users/akinb/OneDrive/Desktop/tfod/TFODCourse/Tensorflow/workspace/images/collectedimages/ok\\ok.d9867e11-edd3-11ee-a13f-14857f241877.xml\n",
      "Image:C:\\Users\\akinb\\OneDrive\\Desktop\\tfod\\TFODCourse\\Tensorflow\\workspace\\images\\collectedimages\\ok\\ok.dd1e1afe-edd3-11ee-aca0-14857f241877.jpg -> Annotation:C:/Users/akinb/OneDrive/Desktop/tfod/TFODCourse/Tensorflow/workspace/images/collectedimages/ok\\ok.dd1e1afe-edd3-11ee-aca0-14857f241877.xml\n",
      "Image:C:\\Users\\akinb\\OneDrive\\Desktop\\tfod\\TFODCourse\\Tensorflow\\workspace\\images\\collectedimages\\ok\\ok.dee8c874-edd3-11ee-bcb9-14857f241877.jpg -> Annotation:C:/Users/akinb/OneDrive/Desktop/tfod/TFODCourse/Tensorflow/workspace/images/collectedimages/ok\\ok.dee8c874-edd3-11ee-bcb9-14857f241877.xml\n",
      "Image:C:\\Users\\akinb\\OneDrive\\Desktop\\tfod\\TFODCourse\\Tensorflow\\workspace\\images\\collectedimages\\ok\\ok.e0b6480c-edd3-11ee-9e58-14857f241877.jpg -> Annotation:C:/Users/akinb/OneDrive/Desktop/tfod/TFODCourse/Tensorflow/workspace/images/collectedimages/ok\\ok.e0b6480c-edd3-11ee-9e58-14857f241877.xml\n",
      "Image:C:\\Users\\akinb\\OneDrive\\Desktop\\tfod\\TFODCourse\\Tensorflow\\workspace\\images\\collectedimages\\ok\\ok.e2815180-edd3-11ee-a7ed-14857f241877.jpg -> Annotation:C:/Users/akinb/OneDrive/Desktop/tfod/TFODCourse/Tensorflow/workspace/images/collectedimages/ok\\ok.e2815180-edd3-11ee-a7ed-14857f241877.xml\n"
     ]
    }
   ],
   "source": [
    "!cd {LABELIMG_PATH} && python labelImg.py"
   ]
  },
  {
   "cell_type": "markdown",
   "metadata": {},
   "source": [
    "# 6. Move them into a Training and Testing Partition"
   ]
  },
  {
   "cell_type": "markdown",
   "metadata": {},
   "source": [
    "# OPTIONAL - 7. Compress them for Colab Training"
   ]
  },
  {
   "cell_type": "code",
   "execution_count": 28,
   "metadata": {},
   "outputs": [],
   "source": [
    "TRAIN_PATH = os.path.join('Tensorflow', 'workspace', 'images', 'train')\n",
    "TEST_PATH = os.path.join('Tensorflow', 'workspace', 'images', 'test')\n",
    "ARCHIVE_PATH = os.path.join('Tensorflow', 'workspace', 'images', 'archive.tar.gz')"
   ]
  },
  {
   "cell_type": "code",
   "execution_count": 29,
   "metadata": {},
   "outputs": [],
   "source": [
    "!tar -czf {ARCHIVE_PATH} {TRAIN_PATH} {TEST_PATH}"
   ]
  },
  {
   "cell_type": "code",
   "execution_count": null,
   "metadata": {},
   "outputs": [],
   "source": []
  }
 ],
 "metadata": {
  "kernelspec": {
   "display_name": "tfod",
   "language": "python",
   "name": "tfod"
  },
  "language_info": {
   "codemirror_mode": {
    "name": "ipython",
    "version": 3
   },
   "file_extension": ".py",
   "mimetype": "text/x-python",
   "name": "python",
   "nbconvert_exporter": "python",
   "pygments_lexer": "ipython3",
   "version": "3.10.9"
  }
 },
 "nbformat": 4,
 "nbformat_minor": 2
}
